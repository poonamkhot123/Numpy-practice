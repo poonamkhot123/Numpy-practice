{
  "nbformat": 4,
  "nbformat_minor": 0,
  "metadata": {
    "colab": {
      "provenance": [],
      "authorship_tag": "ABX9TyOxisjWcA7ul9pRkGVu2p/Y",
      "include_colab_link": true
    },
    "kernelspec": {
      "name": "python3",
      "display_name": "Python 3"
    },
    "language_info": {
      "name": "python"
    }
  },
  "cells": [
    {
      "cell_type": "markdown",
      "metadata": {
        "id": "view-in-github",
        "colab_type": "text"
      },
      "source": [
        "<a href=\"https://colab.research.google.com/github/poonamkhot123/Numpy-practice/blob/main/numpy_practice_day2.ipynb\" target=\"_parent\"><img src=\"https://colab.research.google.com/assets/colab-badge.svg\" alt=\"Open In Colab\"/></a>"
      ]
    },
    {
      "cell_type": "markdown",
      "source": [
        " # **Arithmetic operations**\n"
      ],
      "metadata": {
        "id": "Ne1vc_1idstm"
      }
    },
    {
      "cell_type": "code",
      "source": [
        "import numpy as np\n",
        "var = np.array([1,2,3,4])\n",
        "varadd = var + 3\n",
        "print(varadd)"
      ],
      "metadata": {
        "colab": {
          "base_uri": "https://localhost:8080/"
        },
        "id": "PPFdrCLEdzrz",
        "outputId": "c1850c9d-48de-4aaf-ece9-09fa03d896c6"
      },
      "execution_count": null,
      "outputs": [
        {
          "output_type": "stream",
          "name": "stdout",
          "text": [
            "[4 5 6 7]\n"
          ]
        }
      ]
    },
    {
      "cell_type": "code",
      "source": [
        "var1 = np.array([1,2,3,4])\n",
        "var2 = np.array([1,2,3,4])\n",
        "varadd = var1 + var2\n",
        "print(varadd)"
      ],
      "metadata": {
        "colab": {
          "base_uri": "https://localhost:8080/"
        },
        "id": "xE4yTmTdeR4k",
        "outputId": "b7dccbd6-c881-4a5f-e694-337bb80d62fc"
      },
      "execution_count": null,
      "outputs": [
        {
          "output_type": "stream",
          "name": "stdout",
          "text": [
            "[2 4 6 8]\n"
          ]
        }
      ]
    },
    {
      "cell_type": "code",
      "source": [
        "var1 = np.array([1,2,3,4])\n",
        "var2 = np.array([2,3,4,5])\n",
        "varsub = var1 - var2\n",
        "print(varsub)"
      ],
      "metadata": {
        "colab": {
          "base_uri": "https://localhost:8080/"
        },
        "id": "G1GMJ1qKejFa",
        "outputId": "f7e21a5c-809c-401c-b561-3ba53d9d6d53"
      },
      "execution_count": null,
      "outputs": [
        {
          "output_type": "stream",
          "name": "stdout",
          "text": [
            "[-1 -1 -1 -1]\n"
          ]
        }
      ]
    },
    {
      "cell_type": "code",
      "source": [
        "var1 = np.array([1,2,3,4])\n",
        "var2 = np.array([2,3,4,5])\n",
        "varmul = var1 * var2\n",
        "print(varmul)"
      ],
      "metadata": {
        "colab": {
          "base_uri": "https://localhost:8080/"
        },
        "id": "9VGWsD7te9jY",
        "outputId": "631c4d53-5a92-45bf-d03a-6766752cb36f"
      },
      "execution_count": null,
      "outputs": [
        {
          "output_type": "stream",
          "name": "stdout",
          "text": [
            "[ 2  6 12 20]\n"
          ]
        }
      ]
    },
    {
      "cell_type": "code",
      "source": [
        "var1 = np.array([1,2,3,4])\n",
        "var2 = np.array([2,3,4,5])\n",
        "vardiv = var1 / var2\n",
        "print(vardiv)"
      ],
      "metadata": {
        "colab": {
          "base_uri": "https://localhost:8080/"
        },
        "id": "yKOFASISfMxn",
        "outputId": "f046b754-ffa0-4b87-d2f0-bc7549e2f519"
      },
      "execution_count": null,
      "outputs": [
        {
          "output_type": "stream",
          "name": "stdout",
          "text": [
            "[0.5        0.66666667 0.75       0.8       ]\n"
          ]
        }
      ]
    },
    {
      "cell_type": "code",
      "source": [
        "print(np.add(4,5))"
      ],
      "metadata": {
        "colab": {
          "base_uri": "https://localhost:8080/"
        },
        "id": "7sx_ogvDfwHS",
        "outputId": "54645bf0-284b-4e57-8519-09175ffed679"
      },
      "execution_count": null,
      "outputs": [
        {
          "output_type": "stream",
          "name": "stdout",
          "text": [
            "9\n"
          ]
        }
      ]
    },
    {
      "cell_type": "code",
      "source": [
        "var = np.array([1,2,3,4])\n",
        "varadd = var % 3\n",
        "print(varadd)"
      ],
      "metadata": {
        "colab": {
          "base_uri": "https://localhost:8080/"
        },
        "id": "iHgyCJnPgZFR",
        "outputId": "d604c907-9bc6-414b-9b58-0672e0bf2b4f"
      },
      "execution_count": null,
      "outputs": [
        {
          "output_type": "stream",
          "name": "stdout",
          "text": [
            "[1 2 0 1]\n"
          ]
        }
      ]
    },
    {
      "cell_type": "code",
      "source": [
        "# Reciprocal\n",
        "var = np.array([1,2,30,20])\n",
        "varadd = np.reciprocal(var)\n",
        "print(varadd)"
      ],
      "metadata": {
        "colab": {
          "base_uri": "https://localhost:8080/"
        },
        "id": "Y4e4JPFpEPFd",
        "outputId": "ac2954a4-3681-4cc6-f3b7-d516a060d65b"
      },
      "execution_count": null,
      "outputs": [
        {
          "output_type": "stream",
          "name": "stdout",
          "text": [
            "[1 0 0 0]\n"
          ]
        }
      ]
    },
    {
      "cell_type": "markdown",
      "source": [
        "# 2D Array\n"
      ],
      "metadata": {
        "id": "uSyI_tw9gOn0"
      }
    },
    {
      "cell_type": "code",
      "source": [
        "var21 = np.array([[1,2,3,4],[1,2,3,4]])\n",
        "var22 = np.array([[1,2,3,4],[2,3,4,5]])\n",
        "varadd = var21+var22\n",
        "print(varadd)"
      ],
      "metadata": {
        "id": "WwShcZ-4gSRZ",
        "colab": {
          "base_uri": "https://localhost:8080/"
        },
        "outputId": "2d61508c-69f2-44d9-c503-eb9c8da557ec"
      },
      "execution_count": null,
      "outputs": [
        {
          "output_type": "stream",
          "name": "stdout",
          "text": [
            "[[2 4 6 8]\n",
            " [3 5 7 9]]\n"
          ]
        }
      ]
    },
    {
      "cell_type": "code",
      "source": [
        "var21 = np.array([[1,2,3,4],[4,5,6,7]])\n",
        "var22 = np.array([[2,3,4,5],[5,6,7,8]])\n",
        "varmul = var21 * var22\n",
        "print(varmul)"
      ],
      "metadata": {
        "colab": {
          "base_uri": "https://localhost:8080/"
        },
        "id": "jUyI3IIRDj19",
        "outputId": "062df31a-cd71-471a-e933-6898b2a200b2"
      },
      "execution_count": null,
      "outputs": [
        {
          "output_type": "stream",
          "name": "stdout",
          "text": [
            "[[ 2  6 12 20]\n",
            " [20 30 42 56]]\n"
          ]
        }
      ]
    },
    {
      "cell_type": "markdown",
      "source": [
        "# Arithmetic Functions"
      ],
      "metadata": {
        "id": "KZRMwlHMEntD"
      }
    },
    {
      "cell_type": "code",
      "source": [
        "# Basic Arithmetic Functions\n",
        "# np.min(x)\n",
        "# np.max(x)\n",
        "# np.argmin(x) (finds position of min)\n",
        "# np.argmax(x) (finds position of max)\n",
        "# np.sqrt(x) ()\n",
        "# np.sin(x)\n",
        "# np.cos(x)\n",
        "# np.cumsum(x) (community sum = first as it is add each one with privious)"
      ],
      "metadata": {
        "id": "GmMi4kxoFWA-"
      },
      "execution_count": null,
      "outputs": []
    },
    {
      "cell_type": "code",
      "source": [
        "var = np.array([3,2,1,4,5,3,2])\n",
        "print(\"min\",np.min(var))\n",
        "print(\"max\",np.max(var))"
      ],
      "metadata": {
        "colab": {
          "base_uri": "https://localhost:8080/"
        },
        "id": "1PzGL9k-FjkY",
        "outputId": "9d089648-4fe4-44dd-98ae-72d7835c33f4"
      },
      "execution_count": null,
      "outputs": [
        {
          "output_type": "stream",
          "name": "stdout",
          "text": [
            "min 1\n",
            "max 5\n"
          ]
        }
      ]
    },
    {
      "cell_type": "code",
      "source": [
        "var = np.array([3,5,6,7,8,9])\n",
        "print(\"min position\",np.argmin(var))\n",
        "print(\"max position\",np.argmax(var))"
      ],
      "metadata": {
        "colab": {
          "base_uri": "https://localhost:8080/"
        },
        "id": "ddqbk-gwL8wN",
        "outputId": "adbb97d2-9eb1-4611-a633-f6ddaac61a62"
      },
      "execution_count": null,
      "outputs": [
        {
          "output_type": "stream",
          "name": "stdout",
          "text": [
            "min position 0\n",
            "max position 5\n"
          ]
        }
      ]
    },
    {
      "cell_type": "code",
      "source": [
        "var1 =np.array([[2,7,3],[9,5,6]])\n",
        "print(np.min(var1,axis =0))"
      ],
      "metadata": {
        "colab": {
          "base_uri": "https://localhost:8080/"
        },
        "id": "XGtPNY69MlXN",
        "outputId": "8f48adf8-9b9c-453d-d04b-172570aadfb2"
      },
      "execution_count": null,
      "outputs": [
        {
          "output_type": "stream",
          "name": "stdout",
          "text": [
            "[2 5 3]\n"
          ]
        }
      ]
    },
    {
      "cell_type": "code",
      "source": [
        "var1 = np.array([3,2,4,5,6,7])\n",
        "print(np.sqrt(var1))"
      ],
      "metadata": {
        "colab": {
          "base_uri": "https://localhost:8080/"
        },
        "id": "prUb3qzkNAbO",
        "outputId": "f047ca75-f372-41f7-caff-08f13870c124"
      },
      "execution_count": null,
      "outputs": [
        {
          "output_type": "stream",
          "name": "stdout",
          "text": [
            "[1.73205081 1.41421356 2.         2.23606798 2.44948974 2.64575131]\n"
          ]
        }
      ]
    },
    {
      "cell_type": "code",
      "source": [
        "var1 = np.array([3,4,5,6,7])\n",
        "print(np.sin(var1))\n",
        "print(np.cos(var1))\n",
        "print(np.cumsum(var1))"
      ],
      "metadata": {
        "colab": {
          "base_uri": "https://localhost:8080/"
        },
        "id": "TyN7QjmtNjah",
        "outputId": "7d31403c-56c7-4650-b3db-8aa9ae0743a1"
      },
      "execution_count": null,
      "outputs": [
        {
          "output_type": "stream",
          "name": "stdout",
          "text": [
            "[ 0.14112001 -0.7568025  -0.95892427 -0.2794155   0.6569866 ]\n",
            "[-0.9899925  -0.65364362  0.28366219  0.96017029  0.75390225]\n",
            "[ 3  7 12 18 25]\n"
          ]
        }
      ]
    },
    {
      "cell_type": "markdown",
      "source": [
        "# Broadcasting of Numpy array\n",
        "\n"
      ],
      "metadata": {
        "id": "q1WQq1NXOlRj"
      }
    },
    {
      "cell_type": "code",
      "source": [
        "# same dimensions\n",
        "# It helps do operations on arrays with different shapes without writing extra code or copying data."
      ],
      "metadata": {
        "id": "i6YoAi8vRKuW"
      },
      "execution_count": null,
      "outputs": []
    },
    {
      "cell_type": "code",
      "source": [
        "var1 = np.array([1,2,3])\n",
        "print(var1.shape)\n",
        "print()\n",
        "var2 = np.array([[1],[2],[3]])\n",
        "print(var2.shape)\n",
        "print()"
      ],
      "metadata": {
        "colab": {
          "base_uri": "https://localhost:8080/"
        },
        "id": "DO6jyYeVR4_g",
        "outputId": "ab7e079b-9a28-4e65-ada8-c24ba977b23b"
      },
      "execution_count": null,
      "outputs": [
        {
          "output_type": "stream",
          "name": "stdout",
          "text": [
            "(3,)\n",
            "\n",
            "(3, 1)\n",
            "\n"
          ]
        }
      ]
    },
    {
      "cell_type": "code",
      "source": [
        "x = np.array([[1],[2]])\n",
        "print(x.shape)\n",
        "\n",
        "y = np.array([[1,2,3],[1,2,3]])\n",
        "print(y.shape)\n",
        "print()\n",
        "\n",
        "print(x+y)"
      ],
      "metadata": {
        "colab": {
          "base_uri": "https://localhost:8080/"
        },
        "id": "mIOBc0aKXwRU",
        "outputId": "fbc5fee4-c5e1-440c-91b3-10c6dee05ac1"
      },
      "execution_count": null,
      "outputs": [
        {
          "output_type": "stream",
          "name": "stdout",
          "text": [
            "(2, 1)\n",
            "(2, 3)\n",
            "\n",
            "[[2 3 4]\n",
            " [3 4 5]]\n"
          ]
        }
      ]
    },
    {
      "cell_type": "markdown",
      "source": [
        "# Indexing in Numpy Array\n",
        "Indexing in NumPy means accessing individual elements of an array using their position (index)."
      ],
      "metadata": {
        "id": "EVw_DjQcYlVj"
      }
    },
    {
      "cell_type": "code",
      "source": [
        "import numpy as np\n",
        "var = np.array([9,8,7,6])\n",
        "print(var[1]) # positive indexing at postion 1"
      ],
      "metadata": {
        "colab": {
          "base_uri": "https://localhost:8080/"
        },
        "id": "WOxKEyj7Yp8j",
        "outputId": "00e5e72b-3716-43d7-8ae4-4f8a61969739"
      },
      "execution_count": null,
      "outputs": [
        {
          "output_type": "stream",
          "name": "stdout",
          "text": [
            "8\n"
          ]
        }
      ]
    },
    {
      "cell_type": "code",
      "source": [
        "var = np.array([2,3,5,7,8])\n",
        "print(var[-2]) # negative indexing for 1D array"
      ],
      "metadata": {
        "colab": {
          "base_uri": "https://localhost:8080/"
        },
        "id": "wlYtyOt7bUHw",
        "outputId": "e9b25215-96f3-4304-8c82-d4af202cbfb8"
      },
      "execution_count": null,
      "outputs": [
        {
          "output_type": "stream",
          "name": "stdout",
          "text": [
            "7\n"
          ]
        }
      ]
    },
    {
      "cell_type": "code",
      "source": [
        "# indexing for 2D array\n",
        "var1 = np.array([[9,8,7],[4,5,6]])\n",
        "print(var1)\n",
        "print(var1.ndim)\n",
        "print()\n",
        "print(var1[0,2])\n"
      ],
      "metadata": {
        "colab": {
          "base_uri": "https://localhost:8080/"
        },
        "id": "8tbFkbSAboI8",
        "outputId": "464e60cc-2f89-4b0f-f692-549ef84e1b72"
      },
      "execution_count": null,
      "outputs": [
        {
          "output_type": "stream",
          "name": "stdout",
          "text": [
            "[[9 8 7]\n",
            " [4 5 6]]\n",
            "2\n",
            "\n",
            "7\n"
          ]
        }
      ]
    },
    {
      "cell_type": "code",
      "source": [
        "#Indexing for 3D array\n",
        "var2 = np.array([[[1,2],[6,9]]])\n",
        "print(var2)\n",
        "print()\n",
        "print(var2.ndim)\n",
        "print()\n",
        "print(var2[0,1,1])"
      ],
      "metadata": {
        "colab": {
          "base_uri": "https://localhost:8080/"
        },
        "id": "v4f-207ycSSc",
        "outputId": "ab853032-ad89-4659-d2df-ba8aa18a2c40"
      },
      "execution_count": null,
      "outputs": [
        {
          "output_type": "stream",
          "name": "stdout",
          "text": [
            "[[[1 2]\n",
            "  [6 9]]]\n",
            "\n",
            "3\n",
            "\n",
            "9\n"
          ]
        }
      ]
    },
    {
      "cell_type": "markdown",
      "source": [
        "# Slicing in Numpy Array\n",
        "Slicing means accessing a range of elements from an array using the start:stop:step format."
      ],
      "metadata": {
        "id": "iNpEkklneHfS"
      }
    },
    {
      "cell_type": "code",
      "source": [
        "# indexing of 1D array\n",
        "var = np.array([1,2,3,4,5,6,7])\n",
        "print(var)\n",
        "print()\n",
        "print(\"2 to 5:\",var[1:5])\n",
        "print(\"2 to end\",var[1:])\n",
        "print(\"start to 5:\",var[:5])\n",
        "print(\"stop:\",var[1::2])"
      ],
      "metadata": {
        "colab": {
          "base_uri": "https://localhost:8080/"
        },
        "id": "bJs7fO16eL2Q",
        "outputId": "61691f98-e1f2-4bad-95bb-230e9242b913"
      },
      "execution_count": null,
      "outputs": [
        {
          "output_type": "stream",
          "name": "stdout",
          "text": [
            "[1 2 3 4 5 6 7]\n",
            "\n",
            "2 to 5: [2 3 4 5]\n",
            "2 to end [2 3 4 5 6 7]\n",
            "start to 5: [1 2 3 4 5]\n",
            "stop: [2 4 6]\n"
          ]
        }
      ]
    },
    {
      "cell_type": "code",
      "source": [
        "# Indexing of 2D array\n",
        "var1  = np.array([[1,2,3,4,5],[9,8,7,6,5],[13,14,15,16,17]])\n",
        "print(var1)\n",
        "print()\n",
        "print(var1[2,1:])"
      ],
      "metadata": {
        "colab": {
          "base_uri": "https://localhost:8080/"
        },
        "id": "yi38euS1UXFw",
        "outputId": "4fa111e2-0833-412f-f91a-a15b8072f738"
      },
      "execution_count": null,
      "outputs": [
        {
          "output_type": "stream",
          "name": "stdout",
          "text": [
            "[[ 1  2  3  4  5]\n",
            " [ 9  8  7  6  5]\n",
            " [13 14 15 16 17]]\n",
            "\n",
            "[14 15 16 17]\n"
          ]
        }
      ]
    },
    {
      "cell_type": "markdown",
      "source": [
        "# Iterating Numpy Array\n",
        "Iterating means going through each element of a NumPy array one by one using loops (usually for loops)."
      ],
      "metadata": {
        "id": "tBFnDZuyVYEe"
      }
    },
    {
      "cell_type": "code",
      "source": [
        "var = np.array([9,8,7,6,5,4])\n",
        "for i in var:\n",
        "  print(i)"
      ],
      "metadata": {
        "colab": {
          "base_uri": "https://localhost:8080/"
        },
        "id": "VvWFy7psVbtj",
        "outputId": "80c70252-036c-471d-b643-4e9427cb6321"
      },
      "execution_count": null,
      "outputs": [
        {
          "output_type": "stream",
          "name": "stdout",
          "text": [
            "9\n",
            "8\n",
            "7\n",
            "6\n",
            "5\n",
            "4\n"
          ]
        }
      ]
    },
    {
      "cell_type": "code",
      "source": [
        "var = np.array([[1,2,3,4],[1,2,3,4]])\n",
        "print(var)\n",
        "print()\n",
        "\n",
        "for j in var:\n",
        "  print(j)\n",
        "\n",
        "# for iteration of values we have to use two times for loop.\n",
        "for k in var:\n",
        "  for l in k:\n",
        "    print(l)"
      ],
      "metadata": {
        "colab": {
          "base_uri": "https://localhost:8080/"
        },
        "id": "1GoVV7QlZuqz",
        "outputId": "604a960a-206a-4fac-c391-87f3c422f11c"
      },
      "execution_count": null,
      "outputs": [
        {
          "output_type": "stream",
          "name": "stdout",
          "text": [
            "[[1 2 3 4]\n",
            " [1 2 3 4]]\n",
            "\n",
            "[1 2 3 4]\n",
            "[1 2 3 4]\n",
            "1\n",
            "2\n",
            "3\n",
            "4\n",
            "1\n",
            "2\n",
            "3\n",
            "4\n"
          ]
        }
      ]
    },
    {
      "cell_type": "code",
      "source": [
        "var3 = np.array([[[[9,8,7],[1,2,3]]]])\n",
        "print(var3)\n",
        "print(var3.ndim)\n",
        "print()\n",
        "\n",
        "for i in var3:\n",
        "  for j in i:\n",
        "    for k in j:\n",
        "        print(k)\n"
      ],
      "metadata": {
        "colab": {
          "base_uri": "https://localhost:8080/"
        },
        "id": "23OHTLGqbf63",
        "outputId": "78e126a0-f446-4924-dd9b-861e9bb61333"
      },
      "execution_count": null,
      "outputs": [
        {
          "output_type": "stream",
          "name": "stdout",
          "text": [
            "[[[[9 8 7]\n",
            "   [1 2 3]]]]\n",
            "4\n",
            "\n",
            "[9 8 7]\n",
            "[1 2 3]\n"
          ]
        }
      ]
    },
    {
      "cell_type": "markdown",
      "source": [
        "# nditer\n",
        "np.nditer() is a universal iterator that lets you loop over every element in a NumPy array regardless of its dimensions, in a simple and efficient way.\n",
        "\n",
        "# Why Use nditer?\n",
        "Works for 1D, 2D, 3D, or higher dimensional arrays\n",
        "\n",
        "Useful when you want to process each element one by one\n",
        "\n",
        "Can be used with modification, index tracking, or simultaneous iteration\n",
        "\n"
      ],
      "metadata": {
        "id": "qVSslYf5ip7w"
      }
    },
    {
      "cell_type": "code",
      "source": [
        "var3 = np.array([[[9,8,7,6],[1,2,3,4]]])\n",
        "print(var3)\n",
        "print(var3.ndim)\n",
        "print()\n",
        "\n",
        "for i in np.nditer(var3):\n",
        "  print(i)"
      ],
      "metadata": {
        "colab": {
          "base_uri": "https://localhost:8080/"
        },
        "id": "JsOP5pyrjBNu",
        "outputId": "54d4ad24-4d18-4d23-e27e-409408045c4e"
      },
      "execution_count": null,
      "outputs": [
        {
          "output_type": "stream",
          "name": "stdout",
          "text": [
            "[[[9 8 7 6]\n",
            "  [1 2 3 4]]]\n",
            "3\n",
            "\n",
            "9\n",
            "8\n",
            "7\n",
            "6\n",
            "1\n",
            "2\n",
            "3\n",
            "4\n"
          ]
        }
      ]
    },
    {
      "cell_type": "markdown",
      "source": [
        "# ndenumerate\n",
        "np.ndenumerate() is a handy function in NumPy used to iterate through every element of an array along with its index (position) — even in multi-dimensional arrays."
      ],
      "metadata": {
        "id": "iOTiKKn2gjAU"
      }
    },
    {
      "cell_type": "code",
      "source": [
        "var3 = np.array([[[9,8,7,6],[1,2,3,4]]])\n",
        "print(var3)\n",
        "print(var3.ndim)\n",
        "print()\n",
        "\n",
        "for i,d in np.ndenumerate(var3):\n",
        "  print(i,d) # i stands for indexing value and d stands for data."
      ],
      "metadata": {
        "colab": {
          "base_uri": "https://localhost:8080/"
        },
        "id": "5ek95GRTguJ7",
        "outputId": "b6afab96-18ef-4947-cd99-e3d9f99b7543"
      },
      "execution_count": null,
      "outputs": [
        {
          "output_type": "stream",
          "name": "stdout",
          "text": [
            "[[[9 8 7 6]\n",
            "  [1 2 3 4]]]\n",
            "3\n",
            "\n",
            "(0, 0, 0) 9\n",
            "(0, 0, 1) 8\n",
            "(0, 0, 2) 7\n",
            "(0, 0, 3) 6\n",
            "(0, 1, 0) 1\n",
            "(0, 1, 1) 2\n",
            "(0, 1, 2) 3\n",
            "(0, 1, 3) 4\n"
          ]
        }
      ]
    },
    {
      "cell_type": "markdown",
      "source": [
        "# copy vs view"
      ],
      "metadata": {
        "id": "L1AFcJuzj9LN"
      }
    },
    {
      "cell_type": "code",
      "source": [
        "var = np.array([1,2,3,4])\n",
        "co = var.copy()\n",
        "var[1]=40\n",
        "print(\"var:\",var)\n",
        "print(\"copy:\",co) # changes in original file not in copied file"
      ],
      "metadata": {
        "id": "AK9ok4T-kG0E",
        "colab": {
          "base_uri": "https://localhost:8080/"
        },
        "outputId": "3bcc8df7-9163-4a02-ea8a-4dcb4b77183f"
      },
      "execution_count": null,
      "outputs": [
        {
          "output_type": "stream",
          "name": "stdout",
          "text": [
            "var: [ 1 40  3  4]\n",
            "copy: [1 2 3 4]\n"
          ]
        }
      ]
    },
    {
      "cell_type": "code",
      "source": [
        "x = np.array([9,8,6,5])\n",
        "vi = x.view()\n",
        "x[1]=40\n",
        "print(\"x\",x)\n",
        "print(\"view:\",vi) # changes in both original and copied both"
      ],
      "metadata": {
        "colab": {
          "base_uri": "https://localhost:8080/"
        },
        "id": "joRKO0itkVR4",
        "outputId": "e0342283-ef82-42d9-9318-bb74a6cb7af5"
      },
      "execution_count": null,
      "outputs": [
        {
          "output_type": "stream",
          "name": "stdout",
          "text": [
            "x [ 9 40  6  5]\n",
            "view: [ 9 40  6  5]\n"
          ]
        }
      ]
    },
    {
      "cell_type": "markdown",
      "source": [
        "# join Array: joining means putting contents of two or more arrays in a single array."
      ],
      "metadata": {
        "id": "llVqlksDlAyv"
      }
    },
    {
      "cell_type": "code",
      "source": [
        "var = np.array([1,2,3,4])\n",
        "var1 = np.array([9,8,7,6])\n",
        "ar = np.concatenate((var,var1))\n",
        "print(ar)"
      ],
      "metadata": {
        "colab": {
          "base_uri": "https://localhost:8080/"
        },
        "id": "6ZlhuMR-kml_",
        "outputId": "4536e6e5-09a6-4187-ab11-08af45185c8a"
      },
      "execution_count": null,
      "outputs": [
        {
          "output_type": "stream",
          "name": "stdout",
          "text": [
            "[1 2 3 4 9 8 7 6]\n"
          ]
        }
      ]
    },
    {
      "cell_type": "code",
      "source": [
        "vr = np.array([[1,2],[3,4]])\n",
        "vr1 = np.array([[9,8],[7,6]])\n",
        "ar_new = np.concatenate((var,var1),axis = 0)\n",
        "print(vr)\n",
        "print()\n",
        "print(vr1)\n",
        "print()\n",
        "print(ar_new)"
      ],
      "metadata": {
        "colab": {
          "base_uri": "https://localhost:8080/"
        },
        "id": "SvxCPGtsiFua",
        "outputId": "d2e2fe3f-ef92-477d-9869-b49dbbdf7d07"
      },
      "execution_count": null,
      "outputs": [
        {
          "output_type": "stream",
          "name": "stdout",
          "text": [
            "[[1 2]\n",
            " [3 4]]\n",
            "\n",
            "[[9 8]\n",
            " [7 6]]\n",
            "\n",
            "[1 2 3 4 9 8 7 6]\n"
          ]
        }
      ]
    },
    {
      "cell_type": "code",
      "source": [
        "var_1 = np.array([1,2,3,4])\n",
        "var_2 = np.array([9,8,7,6])\n",
        "a_new = np.stack((var_1,var_2),axis = 1)\n",
        "a_new1 = np.hstack((var_1,var_2)) # row\n",
        "a_new2 = np.vstack((var_1,var_2)) # column\n",
        "a_new3 = np.dstack((var_1,var_2)) #height\n",
        "\n",
        "print(a_new)\n",
        "print()\n",
        "print(a_new1)\n",
        "print()\n",
        "print(a_new2)\n",
        "print()\n",
        "print(a_new3)"
      ],
      "metadata": {
        "colab": {
          "base_uri": "https://localhost:8080/"
        },
        "id": "fKiYsHWDmlOP",
        "outputId": "449616e7-f348-49bd-ed2a-ef1d42dd2dcd"
      },
      "execution_count": null,
      "outputs": [
        {
          "output_type": "stream",
          "name": "stdout",
          "text": [
            "[[1 9]\n",
            " [2 8]\n",
            " [3 7]\n",
            " [4 6]]\n",
            "\n",
            "[1 2 3 4 9 8 7 6]\n",
            "\n",
            "[[1 2 3 4]\n",
            " [9 8 7 6]]\n",
            "\n",
            "[[[1 9]\n",
            "  [2 8]\n",
            "  [3 7]\n",
            "  [4 6]]]\n"
          ]
        }
      ]
    },
    {
      "cell_type": "markdown",
      "source": [
        "# split array\n"
      ],
      "metadata": {
        "id": "lUp0SXIIpJvy"
      }
    },
    {
      "cell_type": "code",
      "source": [
        "import numpy as np\n",
        "var = np.array([1,2,3,4,5,6])\n",
        "print(var)\n",
        "ar = np.array_split(var,3)\n",
        "print()\n",
        "print(ar)\n",
        "print(type(ar))"
      ],
      "metadata": {
        "colab": {
          "base_uri": "https://localhost:8080/"
        },
        "id": "gAcEm5r4pMlH",
        "outputId": "f68a9af0-5325-4a58-e940-7f233694f758"
      },
      "execution_count": null,
      "outputs": [
        {
          "output_type": "stream",
          "name": "stdout",
          "text": [
            "[1 2 3 4 5 6]\n",
            "\n",
            "[array([1, 2]), array([3, 4]), array([5, 6])]\n",
            "<class 'list'>\n"
          ]
        }
      ]
    },
    {
      "cell_type": "code",
      "source": [
        "var1 = np.array([[1,2],[4,3],[5,6]])\n",
        "print(var)\n",
        "ar1 = np.array_split(var1,3)\n",
        "print()\n",
        "print(ar1)"
      ],
      "metadata": {
        "colab": {
          "base_uri": "https://localhost:8080/"
        },
        "id": "FHDQniKbpp90",
        "outputId": "02f3dee0-fbe8-423d-cf1e-9c5ad34ed4c6"
      },
      "execution_count": null,
      "outputs": [
        {
          "output_type": "stream",
          "name": "stdout",
          "text": [
            "[1 2 3 4 5 6]\n",
            "\n",
            "[array([[1, 2]]), array([[4, 3]]), array([[5, 6]])]\n"
          ]
        }
      ]
    },
    {
      "cell_type": "code",
      "source": [
        "var1 = np.array([[1,2],[3,4],[5,6]])\n",
        "print(var)\n",
        "ar1 = np.array_split(var1,3)\n",
        "ar2 = np.array_split(var1,3,axis =1)\n",
        "print()\n",
        "print(ar1)\n",
        "print()\n",
        "print(ar2)"
      ],
      "metadata": {
        "colab": {
          "base_uri": "https://localhost:8080/"
        },
        "id": "LAloZCIqqJCS",
        "outputId": "638ebc95-454e-43ff-9dbf-d244ddcf50ce"
      },
      "execution_count": null,
      "outputs": [
        {
          "output_type": "stream",
          "name": "stdout",
          "text": [
            "[1 2 3 4 5 6]\n",
            "\n",
            "[array([[1, 2]]), array([[3, 4]]), array([[5, 6]])]\n",
            "\n",
            "[array([[1],\n",
            "       [3],\n",
            "       [5]]), array([[2],\n",
            "       [4],\n",
            "       [6]]), array([], shape=(3, 0), dtype=int64)]\n"
          ]
        }
      ]
    },
    {
      "cell_type": "markdown",
      "source": [
        "# Search Array = Search an array for a certain value,and return the indexes that get a match."
      ],
      "metadata": {
        "id": "POt9GQp3rWlB"
      }
    },
    {
      "cell_type": "code",
      "source": [
        "var = np.array([1,2,3,4,2,5,2,5,6,7])\n",
        "x = np.where( var == 2)\n",
        "print(x)"
      ],
      "metadata": {
        "colab": {
          "base_uri": "https://localhost:8080/"
        },
        "id": "0E4OGhkKrmv_",
        "outputId": "d094515a-7e2e-48ee-ef79-13101fe0e134"
      },
      "execution_count": null,
      "outputs": [
        {
          "output_type": "stream",
          "name": "stdout",
          "text": [
            "(array([1, 4, 6]),)\n"
          ]
        }
      ]
    },
    {
      "cell_type": "code",
      "source": [
        "# Search Sorted Array = which performs a binary search in the array,and returns\n",
        "# the index where the specified value would be inserted to maintain the search order."
      ],
      "metadata": {
        "id": "OzNNXddqtHqo"
      },
      "execution_count": null,
      "outputs": []
    },
    {
      "cell_type": "code",
      "source": [
        "var1 = np.array([1,2,3,4,6,7,8,9,10])\n",
        "# index          0,1,2,3,4,5,6\n",
        "x1 = np.searchsorted(var1,5,side =\"right\")\n",
        "print(x1)"
      ],
      "metadata": {
        "colab": {
          "base_uri": "https://localhost:8080/"
        },
        "id": "pASZzo77tadz",
        "outputId": "53d6aee2-1e6b-47ee-f245-fdfbdd2f244e"
      },
      "execution_count": null,
      "outputs": [
        {
          "output_type": "stream",
          "name": "stdout",
          "text": [
            "4\n"
          ]
        }
      ]
    },
    {
      "cell_type": "markdown",
      "source": [
        "# Sort array"
      ],
      "metadata": {
        "id": "rsvM-_xpu0f3"
      }
    },
    {
      "cell_type": "code",
      "source": [
        "# sort array = Ordered sequence is any sequence that has an order\n",
        "#corresponding to elements,like numeric or alphabetical,ascending or descending."
      ],
      "metadata": {
        "id": "ldOmTfb8urwK"
      },
      "execution_count": null,
      "outputs": []
    },
    {
      "cell_type": "code",
      "source": [
        "# sorting of 1D array\n",
        "var_1 =np.array([4,2,3,1,12,5,22,52,6,7])\n",
        "print(np.sort(var1))"
      ],
      "metadata": {
        "colab": {
          "base_uri": "https://localhost:8080/"
        },
        "id": "GMqSwoFF6KRt",
        "outputId": "c2d98c5a-b4b8-460f-a392-181e8aa60db7"
      },
      "execution_count": null,
      "outputs": [
        {
          "output_type": "stream",
          "name": "stdout",
          "text": [
            "[1 2 3 4 6 7]\n"
          ]
        }
      ]
    },
    {
      "cell_type": "code",
      "source": [
        "# sorting of 1D array\n",
        "var_2 = np.array([\"a\",\"s\",\"d\",\"f\"])\n",
        "print(np.sort(var_2))"
      ],
      "metadata": {
        "id": "99sSRzWouu6W",
        "colab": {
          "base_uri": "https://localhost:8080/"
        },
        "outputId": "7386b385-e47d-4aba-8fc9-7d89fdab887e"
      },
      "execution_count": null,
      "outputs": [
        {
          "output_type": "stream",
          "name": "stdout",
          "text": [
            "['a' 'd' 'f' 's']\n"
          ]
        }
      ]
    },
    {
      "cell_type": "code",
      "source": [
        "# sorting of 2D array\n",
        "var_1  = np.array([[4,3,2],[1,12,5],[22,52,6]])\n",
        "print(np.sort(var_1))"
      ],
      "metadata": {
        "colab": {
          "base_uri": "https://localhost:8080/"
        },
        "id": "8bygyXHg7Net",
        "outputId": "0522545a-f327-4907-e415-1bbb2d9c6e56"
      },
      "execution_count": null,
      "outputs": [
        {
          "output_type": "stream",
          "name": "stdout",
          "text": [
            "[[ 2  3  4]\n",
            " [ 1  5 12]\n",
            " [ 6 22 52]]\n"
          ]
        }
      ]
    },
    {
      "cell_type": "code",
      "source": [
        "# filter array = Getting some elements out\n",
        "# of an existing array and creating a new array out of them."
      ],
      "metadata": {
        "id": "HEShpKIB7trv"
      },
      "execution_count": null,
      "outputs": []
    },
    {
      "cell_type": "markdown",
      "source": [
        "# filter array"
      ],
      "metadata": {
        "id": "99VYHtBx8GsT"
      }
    },
    {
      "cell_type": "code",
      "source": [
        "var_3 = np.array([\"a\",\"s\",\"d\",\"f\"])\n",
        "f = [True,False,False,True]\n",
        "new_a = var_3[f]\n",
        "print(new_a)\n",
        "print(type(new_a))"
      ],
      "metadata": {
        "colab": {
          "base_uri": "https://localhost:8080/"
        },
        "id": "pfZjme2Q8EF6",
        "outputId": "16a7b8b5-caed-4e1b-d5cc-95b038c46b23"
      },
      "execution_count": null,
      "outputs": [
        {
          "output_type": "stream",
          "name": "stdout",
          "text": [
            "['a' 'f']\n",
            "<class 'numpy.ndarray'>\n"
          ]
        }
      ]
    },
    {
      "cell_type": "markdown",
      "source": [
        "# Arithmetic Functions"
      ],
      "metadata": {
        "id": "EHIkG3eV9HVw"
      }
    },
    {
      "cell_type": "markdown",
      "source": [
        "*Shuffle* – Mixes the rows or items in the array randomly.\n",
        "\n",
        "*unique* – Finds and returns only the different (non-repeating) values in the array.\n",
        "\n",
        "*resize* – Changes the size and shape of the array, and fills in extra space by repeating values if needed.\n",
        "\n",
        "*flatten* – Makes a new 1D copy of the array, no matter how many dimensions it had.\n",
        "\n",
        "*ravel* – Turns the array into 1D, like flatten, but tries not to make a new copy (faster and uses less memory).\n",
        "\n"
      ],
      "metadata": {
        "id": "J57xg0yn9KbB"
      }
    },
    {
      "cell_type": "code",
      "source": [
        "# Shuffle\n",
        "import numpy as np\n",
        "var = np.array([1,2,3,4,5])\n",
        "np.random.shuffle(var)\n",
        "print(var)"
      ],
      "metadata": {
        "colab": {
          "base_uri": "https://localhost:8080/"
        },
        "id": "hTURGtmM-KSL",
        "outputId": "b67a7a3d-2aae-4e95-9f23-3d6423d1dd38"
      },
      "execution_count": null,
      "outputs": [
        {
          "output_type": "stream",
          "name": "stdout",
          "text": [
            "[1 5 4 2 3]\n"
          ]
        }
      ]
    },
    {
      "cell_type": "code",
      "source": [
        "# unique\n",
        "var_1 = np.array([1,2,3,2,5,2,6,2,7])\n",
        "x = np.unique(var1,return_index = True,return_counts=True)\n",
        "print(x)"
      ],
      "metadata": {
        "colab": {
          "base_uri": "https://localhost:8080/"
        },
        "id": "14nXT-y9-iV6",
        "outputId": "12cf3486-56d9-4958-8154-3ee7a7f8f241"
      },
      "execution_count": null,
      "outputs": [
        {
          "output_type": "stream",
          "name": "stdout",
          "text": [
            "(array([1, 2, 3, 4, 6, 7]), array([0, 1, 2, 3, 4, 5]), array([1, 1, 1, 1, 1, 1]))\n"
          ]
        }
      ]
    },
    {
      "cell_type": "code",
      "source": [
        "# resize\n",
        "var2 = np.array([1,2,3,4,5,6])\n",
        "y =np.resize(var2,(3,2))\n",
        "print(y)"
      ],
      "metadata": {
        "colab": {
          "base_uri": "https://localhost:8080/"
        },
        "id": "q7L6dt52-yA0",
        "outputId": "516e36d8-ad25-42b8-a246-95f9b3312e6b"
      },
      "execution_count": null,
      "outputs": [
        {
          "output_type": "stream",
          "name": "stdout",
          "text": [
            "[[1 2]\n",
            " [3 4]\n",
            " [5 6]]\n"
          ]
        }
      ]
    },
    {
      "cell_type": "code",
      "source": [
        "#flatten,resize\n",
        "var2 = np.resize(var2,(3,2))\n",
        "print(y)\n",
        "print()\n",
        "\n",
        "print(\"Flatten:\",y.flatten(order=\"F\"))\n",
        "print(\"Ravel:\",np.ravel(y))\n"
      ],
      "metadata": {
        "colab": {
          "base_uri": "https://localhost:8080/"
        },
        "id": "tYQjijoF_Pa8",
        "outputId": "e91d6c54-c91c-4411-fbf0-09df594a3019"
      },
      "execution_count": null,
      "outputs": [
        {
          "output_type": "stream",
          "name": "stdout",
          "text": [
            "[[1 2]\n",
            " [3 4]\n",
            " [5 6]]\n",
            "\n",
            "Flatten: [1 3 5 2 4 6]\n",
            "Ravel: [1 2 3 4 5 6]\n"
          ]
        }
      ]
    },
    {
      "cell_type": "markdown",
      "source": [
        "# Insert Function"
      ],
      "metadata": {
        "id": "noRJORJ6Ba-z"
      }
    },
    {
      "cell_type": "code",
      "source": [
        "import numpy as np\n",
        "var = np.array([1,2,3,4])\n",
        "print(var)\n",
        "v= np.insert(var,2,40)\n",
        "print(v)\n",
        "# here insert into var\n",
        "# at 2nd index number position\n",
        "# value is 40"
      ],
      "metadata": {
        "colab": {
          "base_uri": "https://localhost:8080/"
        },
        "id": "3vatzIWyBdiI",
        "outputId": "1f0a1ae4-b1b7-4997-ddf3-85b299c9497d"
      },
      "execution_count": null,
      "outputs": [
        {
          "output_type": "stream",
          "name": "stdout",
          "text": [
            "[1 2 3 4]\n",
            "[ 1  2 40  3  4]\n"
          ]
        }
      ]
    },
    {
      "cell_type": "code",
      "source": [
        "# we can add same value at multiple index numbers\n",
        "var = np.array([1,2,3,4])\n",
        "print(var)\n",
        "v = np.insert(var,(2,4),40)\n",
        "print(v)"
      ],
      "metadata": {
        "colab": {
          "base_uri": "https://localhost:8080/"
        },
        "id": "WPCMTfsOB__O",
        "outputId": "41fdd125-17ed-467a-ff70-4238101cb7bd"
      },
      "execution_count": null,
      "outputs": [
        {
          "output_type": "stream",
          "name": "stdout",
          "text": [
            "[1 2 3 4]\n",
            "[ 1  2 40  3  4 40]\n"
          ]
        }
      ]
    },
    {
      "cell_type": "code",
      "source": [
        "# add one row\n",
        "var = np.array([[1,2],[3,4]])\n",
        "print(var)\n",
        "\n",
        "v = np.insert(var,2,6,axis = 0)\n",
        "print(v)"
      ],
      "metadata": {
        "colab": {
          "base_uri": "https://localhost:8080/"
        },
        "id": "69mso4bnCqdd",
        "outputId": "e5ec347a-2154-4054-9b7e-2cf0cf2976d0"
      },
      "execution_count": null,
      "outputs": [
        {
          "output_type": "stream",
          "name": "stdout",
          "text": [
            "[[1 2]\n",
            " [3 4]]\n",
            "[[1 2]\n",
            " [3 4]\n",
            " [6 6]]\n"
          ]
        }
      ]
    },
    {
      "cell_type": "code",
      "source": [
        "# append adding value at last of the array\n",
        "var1 = np.array([[1,2,3],[1,2,3]])\n",
        "v1 = np.insert(var1,2,[22,23,24],axis = 0)\n",
        "print(v1)"
      ],
      "metadata": {
        "colab": {
          "base_uri": "https://localhost:8080/"
        },
        "id": "GN_YS4F5IcPk",
        "outputId": "91f29bc1-ae3c-412a-b867-785d191c25fe"
      },
      "execution_count": null,
      "outputs": [
        {
          "output_type": "stream",
          "name": "stdout",
          "text": [
            "[[ 1  2  3]\n",
            " [ 1  2  3]\n",
            " [22 23 24]]\n"
          ]
        }
      ]
    },
    {
      "cell_type": "markdown",
      "source": [
        "# Delete"
      ],
      "metadata": {
        "id": "7fx1Y4KkJJSI"
      }
    },
    {
      "cell_type": "code",
      "source": [
        "import numpy as np\n",
        "var1 = np.array([1,2,3,4])\n",
        "print(var1)\n",
        "d = np.delete(var1,2)\n",
        "print(d)"
      ],
      "metadata": {
        "colab": {
          "base_uri": "https://localhost:8080/"
        },
        "id": "e9LBqzuEJMHk",
        "outputId": "d608caf1-f230-4f31-9e3e-37e2d8a52677"
      },
      "execution_count": null,
      "outputs": [
        {
          "output_type": "stream",
          "name": "stdout",
          "text": [
            "[1 2 3 4]\n",
            "[1 2 4]\n"
          ]
        }
      ]
    },
    {
      "cell_type": "markdown",
      "source": [
        "# Numpy Matrix"
      ],
      "metadata": {
        "id": "Boe-0UOzJcDS"
      }
    },
    {
      "cell_type": "code",
      "source": [
        "var = np.matrix([[1,2,3],[2,6,8]])\n",
        "print(var)\n",
        "print(type(var))"
      ],
      "metadata": {
        "colab": {
          "base_uri": "https://localhost:8080/"
        },
        "id": "LVKrLoVNJf2F",
        "outputId": "c2ba878e-6701-479f-ac2b-b0ee6beb74e8"
      },
      "execution_count": null,
      "outputs": [
        {
          "output_type": "stream",
          "name": "stdout",
          "text": [
            "[[1 2 3]\n",
            " [2 6 8]]\n",
            "<class 'numpy.matrix'>\n"
          ]
        }
      ]
    },
    {
      "cell_type": "code",
      "source": [
        "var1 = np.array([[1,2,3],[2,3,5]])\n",
        "print(var1)\n",
        "print(type(var1))"
      ],
      "metadata": {
        "colab": {
          "base_uri": "https://localhost:8080/"
        },
        "id": "ZYZvCD2KKMAd",
        "outputId": "513884f4-0c19-489b-94de-48bbf7524a28"
      },
      "execution_count": null,
      "outputs": [
        {
          "output_type": "stream",
          "name": "stdout",
          "text": [
            "[[1 2 3]\n",
            " [2 3 5]]\n",
            "<class 'numpy.ndarray'>\n"
          ]
        }
      ]
    },
    {
      "cell_type": "code",
      "source": [
        "# addition of matrix\n",
        "var = np.matrix([[1,2],[1,2]])\n",
        "var2 = np.matrix([[1,2],[3,6]])\n",
        "print(var)\n",
        "print(type(var))\n",
        "print()\n",
        "print(var*var2)\n",
        "print()\n",
        "print(var.dot(var2))"
      ],
      "metadata": {
        "colab": {
          "base_uri": "https://localhost:8080/"
        },
        "id": "LEGy0ua-KW3u",
        "outputId": "3cd8011d-e550-4fa3-8f24-04779ea41129"
      },
      "execution_count": null,
      "outputs": [
        {
          "output_type": "stream",
          "name": "stdout",
          "text": [
            "[[1 2]\n",
            " [1 2]]\n",
            "<class 'numpy.matrix'>\n",
            "\n",
            "[[ 7 14]\n",
            " [ 7 14]]\n",
            "\n",
            "[[ 7 14]\n",
            " [ 7 14]]\n"
          ]
        }
      ]
    },
    {
      "cell_type": "markdown",
      "source": [
        "# Matrix function in numpy arrays\n",
        "transpose() – Converts rows to columns, essential for reshaping and aligning matrix operations.\n",
        "\n",
        "swapaxes() – Swaps two axes in multi-dimensional arrays for flexible axis manipulation.\n",
        "\n",
        "inv() – Computes the inverse of a square matrix for solving linear systems.\n",
        "\n",
        "matrix_power() – Raises a matrix to an integer power for repeated multiplication or transformations.\n",
        "\n",
        "det() – Calculates the determinant to check matrix invertibility and solve equations."
      ],
      "metadata": {
        "id": "p-Of29MDNj8W"
      }
    },
    {
      "cell_type": "code",
      "source": [
        "# Transpose #swapaxes\n",
        "var = np.matrix([[1,2,3],[4,5,6]])\n",
        "print(var)\n",
        "print()\n",
        "\n",
        "print(np.transpose(var))\n",
        "print()\n",
        "\n",
        "print(var.T)\n",
        "print(np.transpose(var))\n",
        "\n",
        "print()\n",
        "print(var.T)\n",
        "\n",
        "print()\n",
        "print(np.swapaxes(var,0,1))"
      ],
      "metadata": {
        "id": "ZNOjIuW8OWfM",
        "colab": {
          "base_uri": "https://localhost:8080/"
        },
        "outputId": "e1b83a19-443b-470f-d110-0fb7934adf24"
      },
      "execution_count": null,
      "outputs": [
        {
          "output_type": "stream",
          "name": "stdout",
          "text": [
            "[[1 2 3]\n",
            " [4 5 6]]\n",
            "\n",
            "[[1 4]\n",
            " [2 5]\n",
            " [3 6]]\n",
            "\n",
            "[[1 4]\n",
            " [2 5]\n",
            " [3 6]]\n",
            "[[1 4]\n",
            " [2 5]\n",
            " [3 6]]\n",
            "\n",
            "[[1 4]\n",
            " [2 5]\n",
            " [3 6]]\n",
            "\n",
            "[[1 4]\n",
            " [2 5]\n",
            " [3 6]]\n"
          ]
        }
      ]
    },
    {
      "cell_type": "code",
      "source": [
        "var2 = np.matrix([[1,2],[3,4]])\n",
        "print(var2)\n",
        "print()\n",
        "print(np.swapaxes(var2,0,1))"
      ],
      "metadata": {
        "colab": {
          "base_uri": "https://localhost:8080/"
        },
        "id": "GRwwVShukmek",
        "outputId": "0efa31dd-6d6f-464e-923a-ff8501965b62"
      },
      "execution_count": null,
      "outputs": [
        {
          "output_type": "stream",
          "name": "stdout",
          "text": [
            "[[1 2]\n",
            " [3 4]]\n",
            "\n",
            "[[1 3]\n",
            " [2 4]]\n"
          ]
        }
      ]
    },
    {
      "cell_type": "code",
      "source": [
        "#inverse\n",
        "var3 = np.matrix([[1,2],[3,4]])\n",
        "print(var3)\n",
        "print()\n",
        "print(np.linalg.inv(var3))\n",
        "\n",
        "\n"
      ],
      "metadata": {
        "colab": {
          "base_uri": "https://localhost:8080/"
        },
        "id": "Seiq3ivsk5Ce",
        "outputId": "f5bec8cb-e2b4-4ed6-e717-eda00a356a58"
      },
      "execution_count": null,
      "outputs": [
        {
          "output_type": "stream",
          "name": "stdout",
          "text": [
            "[[1 2]\n",
            " [3 4]]\n",
            "\n",
            "[[-2.   1. ]\n",
            " [ 1.5 -0.5]]\n"
          ]
        }
      ]
    },
    {
      "cell_type": "code",
      "source": [
        "#power\n",
        "var4 = np.matrix([[1,2],[3,4]])\n",
        "print(var4)\n",
        "print()\n",
        "\n",
        "print(np.linalg.matrix_power(var4,2))\n",
        "print()\n",
        "\n",
        "print(np.linalg.matrix_power(var4,0))\n",
        "print()"
      ],
      "metadata": {
        "colab": {
          "base_uri": "https://localhost:8080/"
        },
        "id": "vFgp04lqlo3h",
        "outputId": "796b3e34-f2b5-4850-d040-70e19d8720af"
      },
      "execution_count": null,
      "outputs": [
        {
          "output_type": "stream",
          "name": "stdout",
          "text": [
            "[[1 2]\n",
            " [3 4]]\n",
            "\n",
            "[[ 7 10]\n",
            " [15 22]]\n",
            "\n",
            "[[1 0]\n",
            " [0 1]]\n",
            "\n"
          ]
        }
      ]
    },
    {
      "cell_type": "code",
      "source": [
        "#Determinanat\n",
        "var5 = np.matrix([[13,12],[10,7]])\n",
        "print(var5)\n",
        "print()\n",
        "print(np.linalg.det(var5))"
      ],
      "metadata": {
        "colab": {
          "base_uri": "https://localhost:8080/"
        },
        "id": "gJMvu1zUnbjF",
        "outputId": "895077ea-3856-4002-c50e-d0d45f56a21d"
      },
      "execution_count": null,
      "outputs": [
        {
          "output_type": "stream",
          "name": "stdout",
          "text": [
            "[[13 12]\n",
            " [10  7]]\n",
            "\n",
            "-29.000000000000018\n"
          ]
        }
      ]
    }
  ]
}