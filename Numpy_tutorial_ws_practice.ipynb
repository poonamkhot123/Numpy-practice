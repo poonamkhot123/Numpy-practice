{
  "nbformat": 4,
  "nbformat_minor": 0,
  "metadata": {
    "colab": {
      "provenance": [],
      "authorship_tag": "ABX9TyPyYd1WUvqcKUDP5aC+g7Zw",
      "include_colab_link": true
    },
    "kernelspec": {
      "name": "python3",
      "display_name": "Python 3"
    },
    "language_info": {
      "name": "python"
    }
  },
  "cells": [
    {
      "cell_type": "markdown",
      "metadata": {
        "id": "view-in-github",
        "colab_type": "text"
      },
      "source": [
        "<a href=\"https://colab.research.google.com/github/poonamkhot123/Numpy-practice/blob/main/Numpy_tutorial_ws_practice.ipynb\" target=\"_parent\"><img src=\"https://colab.research.google.com/assets/colab-badge.svg\" alt=\"Open In Colab\"/></a>"
      ]
    },
    {
      "cell_type": "code",
      "execution_count": 8,
      "metadata": {
        "id": "CpIo7L57HlSX"
      },
      "outputs": [],
      "source": [
        "import numpy as np"
      ]
    },
    {
      "cell_type": "markdown",
      "source": [
        "ARRAY\n"
      ],
      "metadata": {
        "id": "FrRI7l13LWNf"
      }
    },
    {
      "cell_type": "code",
      "source": [
        "a = np.array([1,2,3])\n",
        "print(a)"
      ],
      "metadata": {
        "colab": {
          "base_uri": "https://localhost:8080/"
        },
        "id": "VcwCeWCDLMeE",
        "outputId": "90c6aa26-93e9-4f09-e310-62a43c4cd214"
      },
      "execution_count": 37,
      "outputs": [
        {
          "output_type": "stream",
          "name": "stdout",
          "text": [
            "[1 2 3]\n"
          ]
        }
      ]
    },
    {
      "cell_type": "code",
      "source": [
        "x = [1,2,3,4]\n",
        "y = np.array([x])\n",
        "print(y)\n",
        "print(type(y))\n",
        "print(y.ndim)"
      ],
      "metadata": {
        "colab": {
          "base_uri": "https://localhost:8080/"
        },
        "id": "bj1VYWs4LaKz",
        "outputId": "2679bf4b-97eb-4df1-d7df-37c6155abb5e"
      },
      "execution_count": 38,
      "outputs": [
        {
          "output_type": "stream",
          "name": "stdout",
          "text": [
            "[[1 2 3 4]]\n",
            "<class 'numpy.ndarray'>\n",
            "2\n"
          ]
        }
      ]
    },
    {
      "cell_type": "code",
      "source": [
        "ar2 = np.array([[1,2,3,4],[1,2,3,4]])\n",
        "print(ar2)\n",
        "print(ar2.ndim)"
      ],
      "metadata": {
        "colab": {
          "base_uri": "https://localhost:8080/"
        },
        "id": "3kUwyd_KMtK5",
        "outputId": "9db92a09-062f-4a9d-fa45-9f20c5efa877"
      },
      "execution_count": 9,
      "outputs": [
        {
          "output_type": "stream",
          "name": "stdout",
          "text": [
            "[[1 2 3 4]\n",
            " [1 2 3 4]]\n",
            "2\n"
          ]
        }
      ]
    },
    {
      "cell_type": "code",
      "source": [
        "arn = np.array([1,2,3,4],ndmin = 10)\n",
        "print(arn)\n",
        "print(arn.ndim)"
      ],
      "metadata": {
        "colab": {
          "base_uri": "https://localhost:8080/"
        },
        "id": "CWJk8YYGOwoT",
        "outputId": "2f01c73c-ccdc-43d6-e5c3-a099512582a1"
      },
      "execution_count": 10,
      "outputs": [
        {
          "output_type": "stream",
          "name": "stdout",
          "text": [
            "[[[[[[[[[[1 2 3 4]]]]]]]]]]\n",
            "10\n"
          ]
        }
      ]
    },
    {
      "cell_type": "code",
      "source": [
        "ar_zero = np.zeros(4)\n",
        "print(ar_zero)"
      ],
      "metadata": {
        "colab": {
          "base_uri": "https://localhost:8080/"
        },
        "id": "PoFKv7FYPrJR",
        "outputId": "2aa712d9-6836-4888-f6d8-0c307213c53f"
      },
      "execution_count": 11,
      "outputs": [
        {
          "output_type": "stream",
          "name": "stdout",
          "text": [
            "[0. 0. 0. 0.]\n"
          ]
        }
      ]
    },
    {
      "cell_type": "code",
      "source": [
        "ar_zero = np.zeros((3,4))\n",
        "print(ar_zero)"
      ],
      "metadata": {
        "colab": {
          "base_uri": "https://localhost:8080/"
        },
        "id": "8d5Trre4P1jG",
        "outputId": "c0a0bb05-dd01-4991-cfb5-a327e93988b2"
      },
      "execution_count": 12,
      "outputs": [
        {
          "output_type": "stream",
          "name": "stdout",
          "text": [
            "[[0. 0. 0. 0.]\n",
            " [0. 0. 0. 0.]\n",
            " [0. 0. 0. 0.]]\n"
          ]
        }
      ]
    },
    {
      "cell_type": "markdown",
      "source": [
        " **Ones**\n"
      ],
      "metadata": {
        "id": "xdMPV_dgQOYP"
      }
    },
    {
      "cell_type": "code",
      "source": [
        "ar_one = np.ones(6)\n",
        "print(ar_one)"
      ],
      "metadata": {
        "colab": {
          "base_uri": "https://localhost:8080/"
        },
        "id": "vVT8Tnt1QSDW",
        "outputId": "96370172-98eb-4082-cd0b-6e3970694471"
      },
      "execution_count": 15,
      "outputs": [
        {
          "output_type": "stream",
          "name": "stdout",
          "text": [
            "[1. 1. 1. 1. 1. 1.]\n"
          ]
        }
      ]
    },
    {
      "cell_type": "markdown",
      "source": [
        "**Empty**\n",
        "\n",
        "\n"
      ],
      "metadata": {
        "id": "tiXZTMQoRzuU"
      }
    },
    {
      "cell_type": "code",
      "source": [
        "ar_em = np.empty(4)\n",
        "print(ar_em) # privious memory data 1 is printed here beacuse it takes that memory\n"
      ],
      "metadata": {
        "colab": {
          "base_uri": "https://localhost:8080/"
        },
        "id": "VnfZsGu8R2_8",
        "outputId": "cefd03f1-be8d-42e9-c43d-cb52b38509e8"
      },
      "execution_count": 16,
      "outputs": [
        {
          "output_type": "stream",
          "name": "stdout",
          "text": [
            "[1. 1. 1. 1.]\n"
          ]
        }
      ]
    },
    {
      "cell_type": "markdown",
      "source": [
        "**range**\n"
      ],
      "metadata": {
        "id": "Vc_912t4S7NB"
      }
    },
    {
      "cell_type": "code",
      "source": [
        "ar_rn = np.arange(4)\n",
        "print(ar_rn)"
      ],
      "metadata": {
        "colab": {
          "base_uri": "https://localhost:8080/"
        },
        "id": "YsG4VVRkSjr2",
        "outputId": "1847fe33-a2b9-4329-8f20-26bacc819bcf"
      },
      "execution_count": 17,
      "outputs": [
        {
          "output_type": "stream",
          "name": "stdout",
          "text": [
            "[0 1 2 3]\n"
          ]
        }
      ]
    },
    {
      "cell_type": "markdown",
      "source": [
        "**Diagonal**"
      ],
      "metadata": {
        "id": "3fBewPQMTI57"
      }
    },
    {
      "cell_type": "code",
      "source": [
        "ar_dia = np.eye(3)\n",
        "print(ar_dia)"
      ],
      "metadata": {
        "colab": {
          "base_uri": "https://localhost:8080/"
        },
        "id": "q8Gybb6LTL8r",
        "outputId": "cecb1f48-3a83-4732-c681-7e45af1b0664"
      },
      "execution_count": 18,
      "outputs": [
        {
          "output_type": "stream",
          "name": "stdout",
          "text": [
            "[[1. 0. 0.]\n",
            " [0. 1. 0.]\n",
            " [0. 0. 1.]]\n"
          ]
        }
      ]
    },
    {
      "cell_type": "code",
      "source": [
        "ar_dia = np.eye(3,5)\n",
        "print(ar_dia)"
      ],
      "metadata": {
        "colab": {
          "base_uri": "https://localhost:8080/"
        },
        "id": "glYY8OYcTiPw",
        "outputId": "c49ffcff-a140-4356-b17c-524b422713a5"
      },
      "execution_count": 19,
      "outputs": [
        {
          "output_type": "stream",
          "name": "stdout",
          "text": [
            "[[1. 0. 0. 0. 0.]\n",
            " [0. 1. 0. 0. 0.]\n",
            " [0. 0. 1. 0. 0.]]\n"
          ]
        }
      ]
    },
    {
      "cell_type": "markdown",
      "source": [
        "**linespace**\n"
      ],
      "metadata": {
        "id": "cNXvir_jTrfV"
      }
    },
    {
      "cell_type": "code",
      "source": [
        "ar_lin = np.linspace(1,20,num = 5)\n",
        "print(ar_lin)"
      ],
      "metadata": {
        "colab": {
          "base_uri": "https://localhost:8080/"
        },
        "id": "6cXuJ4XtTt_K",
        "outputId": "d6b8cb41-d7b9-4349-bb89-4f1cdfe2e757"
      },
      "execution_count": 23,
      "outputs": [
        {
          "output_type": "stream",
          "name": "stdout",
          "text": [
            "[ 1.    5.75 10.5  15.25 20.  ]\n"
          ]
        }
      ]
    },
    {
      "cell_type": "markdown",
      "source": [
        "**Create numpy arrays with random numbers**"
      ],
      "metadata": {
        "id": "a6Fnch9bUw8T"
      }
    },
    {
      "cell_type": "code",
      "source": [
        "# rand():The function is used to generate random value between 0 to 1\n",
        "\n",
        "var = np.random.rand(4)\n",
        "print(var)"
      ],
      "metadata": {
        "colab": {
          "base_uri": "https://localhost:8080/"
        },
        "id": "6gJnF-7fVWkd",
        "outputId": "d324852d-4342-4b00-fc62-51e517908bb7"
      },
      "execution_count": 29,
      "outputs": [
        {
          "output_type": "stream",
          "name": "stdout",
          "text": [
            "[0.21752237 0.38175723 0.03933325 0.78637701]\n"
          ]
        }
      ]
    },
    {
      "cell_type": "code",
      "source": [
        "# randn(): the function is used to generate a random value close to zero.\n",
        "# this may return positive or negative numbers as well.\n",
        "\n",
        "var1 =np.random.randn(5)\n",
        "print(var1)\n"
      ],
      "metadata": {
        "colab": {
          "base_uri": "https://localhost:8080/"
        },
        "id": "Xycqxwb6V6Sl",
        "outputId": "af018197-a35f-405f-9d2e-53cafc40dc42"
      },
      "execution_count": 31,
      "outputs": [
        {
          "output_type": "stream",
          "name": "stdout",
          "text": [
            "[ 0.52985774  0.36377016  0.49937333 -0.36352268  0.71969432]\n"
          ]
        }
      ]
    },
    {
      "cell_type": "code",
      "source": [
        "# ranf(): the function for doing random sampling in numpy.it returns an array of specified shape and fills it\n",
        "# with random floats in the half_open interval. [0.0,1.0).\n",
        "\n",
        "var2 = np.random.rand(5)\n",
        "print(var2)\n"
      ],
      "metadata": {
        "colab": {
          "base_uri": "https://localhost:8080/"
        },
        "id": "1uObFgMiXsIn",
        "outputId": "6c7916ee-e4b8-446c-dee0-978ba73e7887"
      },
      "execution_count": 33,
      "outputs": [
        {
          "output_type": "stream",
          "name": "stdout",
          "text": [
            "[0.19068748 0.82902895 0.65657322 0.98846973 0.5522059 ]\n"
          ]
        }
      ]
    },
    {
      "cell_type": "code",
      "source": [
        "# randint() : the function is used to generate a random number between a given range.\n",
        "\n",
        "var4 = np.random.randint(5,20,4)\n",
        "print(var4)\n",
        "\n",
        "# 5 is min value\n",
        "# 20 max value\n",
        "# 4 total number of values in output"
      ],
      "metadata": {
        "colab": {
          "base_uri": "https://localhost:8080/"
        },
        "id": "zgIo_-Bqc9wb",
        "outputId": "35a4b30e-4e87-465a-f11f-fc1207cebcf5"
      },
      "execution_count": 36,
      "outputs": [
        {
          "output_type": "stream",
          "name": "stdout",
          "text": [
            "[10 19  7 14]\n"
          ]
        }
      ]
    },
    {
      "cell_type": "markdown",
      "source": [
        "**Data types**\n"
      ],
      "metadata": {
        "id": "1odMcddZf6hl"
      }
    },
    {
      "cell_type": "code",
      "source": [
        "var = np.array([1,2,3,4,12,12,14,15])\n",
        "print(\"Data type : \",var.dtype)"
      ],
      "metadata": {
        "colab": {
          "base_uri": "https://localhost:8080/"
        },
        "id": "_6mMtKW9gDiA",
        "outputId": "b0f4c1b8-137d-46d1-8d26-4b58604bab4d"
      },
      "execution_count": 38,
      "outputs": [
        {
          "output_type": "stream",
          "name": "stdout",
          "text": [
            "Data type :  int64\n"
          ]
        }
      ]
    },
    {
      "cell_type": "code",
      "source": [
        "var = np.array([1.0,1.2,1.3])\n",
        "print(\"data type:\", var.dtype)"
      ],
      "metadata": {
        "colab": {
          "base_uri": "https://localhost:8080/"
        },
        "id": "yLyH_xLSgQ6b",
        "outputId": "ea7b8d31-9db6-42a6-a769-3e3bac1ca5de"
      },
      "execution_count": 11,
      "outputs": [
        {
          "output_type": "stream",
          "name": "stdout",
          "text": [
            "data type: float64\n"
          ]
        }
      ]
    },
    {
      "cell_type": "code",
      "source": [
        "var = np.array([\"a\",\"s\",\"D\",\"F\"])\n",
        "print(\"Data types:\", var.dtype)"
      ],
      "metadata": {
        "colab": {
          "base_uri": "https://localhost:8080/"
        },
        "id": "oBkOIyzJg-dt",
        "outputId": "21695710-b360-4005-dd4d-7bff1befba3b"
      },
      "execution_count": 12,
      "outputs": [
        {
          "output_type": "stream",
          "name": "stdout",
          "text": [
            "Data types: <U1\n"
          ]
        }
      ]
    },
    {
      "cell_type": "code",
      "source": [
        "x = np.array([1,2,3,4],dtype = np.int32)\n",
        "print(\"Data Type :\",x.dtype)"
      ],
      "metadata": {
        "colab": {
          "base_uri": "https://localhost:8080/"
        },
        "id": "_YZcYbLIhiI7",
        "outputId": "f3941746-2003-4d7b-bff5-8e08a25b07ff"
      },
      "execution_count": 16,
      "outputs": [
        {
          "output_type": "stream",
          "name": "stdout",
          "text": [
            "Data Type : int32\n"
          ]
        }
      ]
    },
    {
      "cell_type": "markdown",
      "source": [
        " **Shape**"
      ],
      "metadata": {
        "id": "a1cih5Qf2zj0"
      }
    },
    {
      "cell_type": "code",
      "source": [
        "var = np.array([[1,2,3,4],[2,4,5,6]])\n",
        "print(var)\n",
        "print(var.shape)"
      ],
      "metadata": {
        "colab": {
          "base_uri": "https://localhost:8080/"
        },
        "id": "39mce9JO44aw",
        "outputId": "a22a2510-ce8a-497b-a776-f175cbb21a78"
      },
      "execution_count": 18,
      "outputs": [
        {
          "output_type": "stream",
          "name": "stdout",
          "text": [
            "[[1 2 3 4]\n",
            " [2 4 5 6]]\n",
            "(2, 4)\n"
          ]
        }
      ]
    },
    {
      "cell_type": "code",
      "source": [
        "var1 = np.array([1,2,3,4], ndmin=4)\n",
        "print(var1)\n",
        "print(var1.ndim)\n",
        "print()\n",
        "print(var1.shape)"
      ],
      "metadata": {
        "colab": {
          "base_uri": "https://localhost:8080/"
        },
        "id": "GgXefsnG6K3w",
        "outputId": "95d2cdd9-2a2c-42ee-db92-d85644432759"
      },
      "execution_count": 25,
      "outputs": [
        {
          "output_type": "stream",
          "name": "stdout",
          "text": [
            "[[[[1 2 3 4]]]]\n",
            "4\n",
            "\n",
            "(1, 1, 1, 4)\n"
          ]
        }
      ]
    },
    {
      "cell_type": "markdown",
      "source": [
        "**Reshape**\n"
      ],
      "metadata": {
        "id": "kl3fuJi27Poj"
      }
    },
    {
      "cell_type": "code",
      "source": [
        "var2 = np.array([1,2,3,4,5,6,1,2,3])\n",
        "print(var2)\n",
        "print(var2.ndim)\n",
        "\n",
        "print()\n",
        "x = var2.reshape(3,3)\n",
        "print(x)\n",
        "print(x.ndim)"
      ],
      "metadata": {
        "colab": {
          "base_uri": "https://localhost:8080/"
        },
        "id": "NBU94por7RYm",
        "outputId": "01e777a7-0dba-47db-d1c9-e3b888ceba0b"
      },
      "execution_count": 33,
      "outputs": [
        {
          "output_type": "stream",
          "name": "stdout",
          "text": [
            "[1 2 3 4 5 6 1 2 3]\n",
            "1\n",
            "\n",
            "[[1 2 3]\n",
            " [4 5 6]\n",
            " [1 2 3]]\n",
            "2\n"
          ]
        }
      ]
    },
    {
      "cell_type": "code",
      "source": [
        "var3 = np.array([1,2,3,4,5,6,7,8,9,10,11,12])\n",
        "print(var2)\n",
        "print(var2.ndim)\n",
        "\n",
        "print()\n",
        "x1 = var3.reshape(2,3,2)\n",
        "print(x1)\n",
        "print(x1.ndim)"
      ],
      "metadata": {
        "colab": {
          "base_uri": "https://localhost:8080/"
        },
        "id": "sTcEUdYc9_O_",
        "outputId": "70e7befc-f6c5-4523-aef9-4f0e2c13ff30"
      },
      "execution_count": 40,
      "outputs": [
        {
          "output_type": "stream",
          "name": "stdout",
          "text": [
            "[1 2 3 4 5 6 1 2 3]\n",
            "1\n",
            "\n",
            "[[[ 1  2]\n",
            "  [ 3  4]\n",
            "  [ 5  6]]\n",
            "\n",
            " [[ 7  8]\n",
            "  [ 9 10]\n",
            "  [11 12]]]\n",
            "3\n"
          ]
        }
      ]
    }
  ]
}